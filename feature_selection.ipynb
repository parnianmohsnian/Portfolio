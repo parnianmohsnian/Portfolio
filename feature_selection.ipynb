{
  "nbformat": 4,
  "nbformat_minor": 0,
  "metadata": {
    "colab": {
      "provenance": []
    },
    "kernelspec": {
      "name": "python3",
      "display_name": "Python 3"
    },
    "language_info": {
      "name": "python"
    }
  },
  "cells": [
    {
      "cell_type": "markdown",
      "source": [
        "### **Feature Selection**"
      ],
      "metadata": {
        "id": "cONvDc1CBQby"
      }
    },
    {
      "cell_type": "code",
      "execution_count": 85,
      "metadata": {
        "id": "emES-TmdxhMq"
      },
      "outputs": [],
      "source": [
        "import pandas as pd\n",
        "from sklearn.preprocessing import LabelEncoder\n",
        "from sklearn.model_selection import train_test_split\n",
        "from sklearn.ensemble import RandomForestClassifier\n",
        "from sklearn.metrics import accuracy_score\n",
        "from sklearn.feature_selection import VarianceThreshold\n",
        "from sklearn.feature_selection import SelectKBest, chi2\n",
        "from sklearn.feature_selection import f_classif\n",
        "from sklearn.feature_selection import mutual_info_classif\n",
        "from sklearn.feature_selection import SelectFromModel\n",
        "from sklearn.linear_model import Lasso\n",
        "import matplotlib.pyplot as plt"
      ]
    },
    {
      "cell_type": "code",
      "source": [
        "df = pd.read_csv('/content/drive/MyDrive/DigiPay-Credit/Training Data.csv')\n",
        "len(df.columns)"
      ],
      "metadata": {
        "colab": {
          "base_uri": "https://localhost:8080/"
        },
        "id": "D9A6Xcvsxohs",
        "outputId": "65c57a54-ac8c-47af-e955-48dc0e317d24"
      },
      "execution_count": 127,
      "outputs": [
        {
          "output_type": "execute_result",
          "data": {
            "text/plain": [
              "13"
            ]
          },
          "metadata": {},
          "execution_count": 127
        }
      ]
    },
    {
      "cell_type": "code",
      "source": [
        "'Age',\n",
        " 'Experience',\n",
        " 'Married/Single',\n",
        " 'House_Ownership',\n",
        " 'Car_Ownership',\n",
        " 'Profession',\n",
        " 'CITY',\n",
        " 'STATE',\n",
        " 'CURRENT_JOB_YRS',\n",
        " 'CURRENT_HOUSE_YRS'"
      ],
      "metadata": {
        "id": "m9iGSFQcgRn8"
      },
      "execution_count": null,
      "outputs": []
    },
    {
      "cell_type": "markdown",
      "source": [
        "### **Model - Random Forest Classifier**"
      ],
      "metadata": {
        "id": "Y9VWJ9bS_ym8"
      }
    },
    {
      "cell_type": "code",
      "source": [
        "# Encoding Categorical Data\n",
        "encoder = LabelEncoder()\n",
        "categorical = ['Married/Single','House_Ownership','Car_Ownership','Profession','CITY','STATE']\n",
        "for cols in categorical:\n",
        "    df[cols] = encoder.fit_transform(df[cols])"
      ],
      "metadata": {
        "id": "NTE9vnO0xosp"
      },
      "execution_count": 128,
      "outputs": []
    },
    {
      "cell_type": "code",
      "source": [
        "X = df.drop(columns=['Risk_Flag', 'Id'])\n",
        "y = df.Risk_Flag\n",
        "X_train, X_valid, y_train, y_valid = train_test_split(X, y, train_size=0.8, test_size=0.2)"
      ],
      "metadata": {
        "id": "O8o2LjuXypu_"
      },
      "execution_count": 129,
      "outputs": []
    },
    {
      "cell_type": "code",
      "source": [
        "model_full = RandomForestClassifier(n_estimators = 250)\n",
        "model_full.fit(X_train,y_train)\n",
        "prediction_full = model_full.predict(X_valid)\n",
        "acc_full = accuracy_score(y_valid, prediction_full)\n",
        "acc_full"
      ],
      "metadata": {
        "colab": {
          "base_uri": "https://localhost:8080/"
        },
        "id": "y4tfFquJypxt",
        "outputId": "461d21ca-ad90-40ec-da02-8acd37fabd8e"
      },
      "execution_count": 130,
      "outputs": [
        {
          "output_type": "execute_result",
          "data": {
            "text/plain": [
              "0.8994444444444445"
            ]
          },
          "metadata": {},
          "execution_count": 130
        }
      ]
    },
    {
      "cell_type": "code",
      "source": [
        "importances = model_full.feature_importances_\n",
        "pd.Series(importances, X_train.columns).sort_values(ascending=False)"
      ],
      "metadata": {
        "colab": {
          "base_uri": "https://localhost:8080/"
        },
        "id": "RfX1DeuOljpe",
        "outputId": "b69d74a1-7394-4c58-ba8a-e22b824c44df"
      },
      "execution_count": 144,
      "outputs": [
        {
          "output_type": "execute_result",
          "data": {
            "text/plain": [
              "Income               0.190536\n",
              "CITY                 0.164747\n",
              "Profession           0.143620\n",
              "Age                  0.142946\n",
              "STATE                0.102836\n",
              "Experience           0.081760\n",
              "CURRENT_JOB_YRS      0.075000\n",
              "CURRENT_HOUSE_YRS    0.064260\n",
              "Car_Ownership        0.016142\n",
              "Married/Single       0.009954\n",
              "House_Ownership      0.008198\n",
              "dtype: float64"
            ]
          },
          "metadata": {},
          "execution_count": 144
        }
      ]
    },
    {
      "cell_type": "markdown",
      "source": [
        "### **Variance Threshold**"
      ],
      "metadata": {
        "id": "-LeQTPWc__ql"
      }
    },
    {
      "cell_type": "code",
      "source": [
        "def selectionVarianceThreshold(data, variance_threshold=0.0):\n",
        "    sel = VarianceThreshold(threshold=variance_threshold)\n",
        "    sel_var=sel.fit_transform(data)\n",
        "    sel_loc_index = sel.get_support(indices=True)\n",
        "\n",
        "    if len(sel_loc_index)==0:\n",
        "        return None\n",
        "    else:\n",
        "        return list(data.columns[sel_loc_index])\n",
        "\n",
        "\n",
        "\n",
        "variance_threshold = 0.0005\n",
        "feats_to_include_VT = selectionVarianceThreshold(X_train,\n",
        "                        variance_threshold=variance_threshold)\n",
        "\n",
        "feats_to_include_VT"
      ],
      "metadata": {
        "colab": {
          "base_uri": "https://localhost:8080/"
        },
        "id": "i_d49D36yp0Z",
        "outputId": "af5c7e84-2a74-48ae-9067-a788e17ea97f"
      },
      "execution_count": 131,
      "outputs": [
        {
          "output_type": "execute_result",
          "data": {
            "text/plain": [
              "['Income',\n",
              " 'Age',\n",
              " 'Experience',\n",
              " 'Married/Single',\n",
              " 'House_Ownership',\n",
              " 'Car_Ownership',\n",
              " 'Profession',\n",
              " 'CITY',\n",
              " 'STATE',\n",
              " 'CURRENT_JOB_YRS',\n",
              " 'CURRENT_HOUSE_YRS']"
            ]
          },
          "metadata": {},
          "execution_count": 131
        }
      ]
    },
    {
      "cell_type": "code",
      "source": [
        "X_vt = df[feats_to_include_VT]\n",
        "X_trainvt, X_validvt, y_trainvt, y_validvt = train_test_split(X_vt, y, train_size=0.8, test_size=0.2)\n",
        "\n",
        "model_vt = RandomForestClassifier(n_estimators = 250)\n",
        "model_vt.fit(X_trainvt,y_trainvt)\n",
        "prediction_vt = model_vt.predict(X_validvt)\n",
        "acc_vt = accuracy_score(y_validvt, prediction_vt)\n",
        "acc_vt"
      ],
      "metadata": {
        "colab": {
          "base_uri": "https://localhost:8080/"
        },
        "id": "tA9deSQJyp3Q",
        "outputId": "57ba7d29-7867-4c97-e113-dc640df35360"
      },
      "execution_count": 132,
      "outputs": [
        {
          "output_type": "execute_result",
          "data": {
            "text/plain": [
              "0.8978769841269841"
            ]
          },
          "metadata": {},
          "execution_count": 132
        }
      ]
    },
    {
      "cell_type": "markdown",
      "source": [
        "### **Chi Squared**"
      ],
      "metadata": {
        "id": "YH8t5zABAE-0"
      }
    },
    {
      "cell_type": "code",
      "source": [
        "chi_best_k = SelectKBest(chi2, k=10).fit((10*X).astype(int), y)\n",
        "ch_best_feats = [feat for feat in list(chi_best_k.get_support()*X.columns) if feat !='']\n",
        "ch_best_feats"
      ],
      "metadata": {
        "colab": {
          "base_uri": "https://localhost:8080/"
        },
        "id": "CnOIHXeZxovx",
        "outputId": "3ce39611-87a3-46b9-f20a-95b5f3910bff"
      },
      "execution_count": 134,
      "outputs": [
        {
          "output_type": "execute_result",
          "data": {
            "text/plain": [
              "['Income',\n",
              " 'Age',\n",
              " 'Experience',\n",
              " 'Married/Single',\n",
              " 'House_Ownership',\n",
              " 'Car_Ownership',\n",
              " 'Profession',\n",
              " 'CITY',\n",
              " 'STATE',\n",
              " 'CURRENT_JOB_YRS']"
            ]
          },
          "metadata": {},
          "execution_count": 134
        }
      ]
    },
    {
      "cell_type": "code",
      "source": [
        "X_chi = df[ch_best_feats]\n",
        "X_trainchi, X_validchi, y_trainchi, y_validchi = train_test_split(X_chi, y, train_size=0.8, test_size=0.2)"
      ],
      "metadata": {
        "id": "yLLz6Pki75sr"
      },
      "execution_count": 135,
      "outputs": []
    },
    {
      "cell_type": "code",
      "source": [
        "model_chi = RandomForestClassifier(n_estimators = 250)\n",
        "model_chi.fit(X_trainchi,y_trainchi)\n",
        "prediction_chi = model_chi.predict(X_validchi)\n",
        "acc_chi = accuracy_score(y_validchi, prediction_chi)\n",
        "acc_chi"
      ],
      "metadata": {
        "colab": {
          "base_uri": "https://localhost:8080/"
        },
        "id": "uRvD4gcH75vk",
        "outputId": "6c894169-b64b-421d-8dee-09f0e45373be"
      },
      "execution_count": 136,
      "outputs": [
        {
          "output_type": "execute_result",
          "data": {
            "text/plain": [
              "0.8993452380952381"
            ]
          },
          "metadata": {},
          "execution_count": 136
        }
      ]
    },
    {
      "cell_type": "markdown",
      "source": [
        "### **ANOVA F-value**"
      ],
      "metadata": {
        "id": "LWp5NVmvAJ5l"
      }
    },
    {
      "cell_type": "code",
      "source": [
        "fvalue_selector = SelectKBest(f_classif, k=10)\n",
        "kbest_anova = fvalue_selector.fit(X, y)\n",
        "\n",
        "anova_feats = [feat for feat in list(kbest_anova.get_support()*X.columns) if feat !='']\n",
        "anova_feats"
      ],
      "metadata": {
        "colab": {
          "base_uri": "https://localhost:8080/"
        },
        "id": "P_PLIlK575yn",
        "outputId": "89ceb157-d75c-4592-fda9-818f63636507"
      },
      "execution_count": 137,
      "outputs": [
        {
          "output_type": "execute_result",
          "data": {
            "text/plain": [
              "['Age',\n",
              " 'Experience',\n",
              " 'Married/Single',\n",
              " 'House_Ownership',\n",
              " 'Car_Ownership',\n",
              " 'Profession',\n",
              " 'CITY',\n",
              " 'STATE',\n",
              " 'CURRENT_JOB_YRS',\n",
              " 'CURRENT_HOUSE_YRS']"
            ]
          },
          "metadata": {},
          "execution_count": 137
        }
      ]
    },
    {
      "cell_type": "code",
      "source": [
        "X_anova = df[anova_feats]\n",
        "X_trainanova, X_validanova, y_trainanova, y_validanova = train_test_split(X_anova, y, train_size=0.8, test_size=0.2)\n",
        "\n",
        "model_anova = RandomForestClassifier(n_estimators = 250)\n",
        "model_anova.fit(X_trainanova,y_trainanova)\n",
        "prediction_anova = model_anova.predict(X_validanova)\n",
        "acc_anova = accuracy_score(y_validanova, prediction_anova)\n",
        "acc_anova"
      ],
      "metadata": {
        "colab": {
          "base_uri": "https://localhost:8080/"
        },
        "id": "sOznp0UV751W",
        "outputId": "9a847227-ed7b-4c56-9813-052851fc1ba7"
      },
      "execution_count": 138,
      "outputs": [
        {
          "output_type": "execute_result",
          "data": {
            "text/plain": [
              "0.9014285714285715"
            ]
          },
          "metadata": {},
          "execution_count": 138
        }
      ]
    },
    {
      "cell_type": "markdown",
      "source": [
        "### **Information gain**"
      ],
      "metadata": {
        "id": "uXLw76I4AgvS"
      }
    },
    {
      "cell_type": "code",
      "source": [
        "importances = mutual_info_classif(X_train, y_train)\n",
        "\n",
        "feature_info = pd.Series(importances, X_train.columns).sort_values(ascending=False)\n",
        "feature_info"
      ],
      "metadata": {
        "colab": {
          "base_uri": "https://localhost:8080/"
        },
        "id": "F65LNK88AnJK",
        "outputId": "c745266b-94a5-4406-d844-2fa3d401e0a8"
      },
      "execution_count": 139,
      "outputs": [
        {
          "output_type": "execute_result",
          "data": {
            "text/plain": [
              "House_Ownership      0.037950\n",
              "Married/Single       0.030015\n",
              "STATE                0.014752\n",
              "Age                  0.010418\n",
              "CURRENT_JOB_YRS      0.010368\n",
              "Experience           0.009587\n",
              "Profession           0.009497\n",
              "CITY                 0.009204\n",
              "Income               0.009098\n",
              "CURRENT_HOUSE_YRS    0.008883\n",
              "Car_Ownership        0.007799\n",
              "dtype: float64"
            ]
          },
          "metadata": {},
          "execution_count": 139
        }
      ]
    },
    {
      "cell_type": "markdown",
      "source": [
        "### **Correlation Coefficient**"
      ],
      "metadata": {
        "id": "C1kyEU4hAydr"
      }
    },
    {
      "cell_type": "code",
      "source": [
        "train_transform = pd.concat([X_train.reset_index(drop=True), y_train.reset_index(drop=True)], axis=1)\n",
        "corr_matrix = train_transform.corr()\n",
        "\n",
        "corr = corr_matrix['Risk_Flag'].abs().sort_values(ascending=False)\n",
        "corr"
      ],
      "metadata": {
        "colab": {
          "base_uri": "https://localhost:8080/"
        },
        "id": "9BSd01iM754o",
        "outputId": "e91932d4-1bf4-48ba-8f0d-c35a71d79e84"
      },
      "execution_count": 140,
      "outputs": [
        {
          "output_type": "execute_result",
          "data": {
            "text/plain": [
              "Risk_Flag            1.000000\n",
              "Experience           0.034799\n",
              "House_Ownership      0.024468\n",
              "Car_Ownership        0.023194\n",
              "Age                  0.022715\n",
              "Married/Single       0.021393\n",
              "CURRENT_JOB_YRS      0.017470\n",
              "Profession           0.004387\n",
              "STATE                0.003790\n",
              "CURRENT_HOUSE_YRS    0.003777\n",
              "CITY                 0.003756\n",
              "Income               0.002559\n",
              "Name: Risk_Flag, dtype: float64"
            ]
          },
          "metadata": {},
          "execution_count": 140
        }
      ]
    },
    {
      "cell_type": "markdown",
      "source": [
        "### **Lasso Regularization**"
      ],
      "metadata": {
        "id": "rEinsGZJA6hd"
      }
    },
    {
      "cell_type": "code",
      "source": [
        "lasso = SelectFromModel(Lasso(alpha=0.001))\n",
        "lasso.fit(X_train, y_train)\n",
        "lasso_feats = [feat for feat in list(lasso.get_support()*X_valid.columns) if feat !='']\n",
        "lasso_feats\n"
      ],
      "metadata": {
        "colab": {
          "base_uri": "https://localhost:8080/"
        },
        "id": "eHOVAcc-_GbL",
        "outputId": "61aa70c3-a0c2-4931-b2f7-658cc2f68593"
      },
      "execution_count": 141,
      "outputs": [
        {
          "output_type": "execute_result",
          "data": {
            "text/plain": [
              "['Age',\n",
              " 'Experience',\n",
              " 'Married/Single',\n",
              " 'House_Ownership',\n",
              " 'Car_Ownership',\n",
              " 'Profession',\n",
              " 'CITY',\n",
              " 'STATE',\n",
              " 'CURRENT_JOB_YRS',\n",
              " 'CURRENT_HOUSE_YRS']"
            ]
          },
          "metadata": {},
          "execution_count": 141
        }
      ]
    },
    {
      "cell_type": "code",
      "source": [
        "X_lasso = df[lasso_feats]\n",
        "X_trainlasso, X_validlasso, y_trainlasso, y_validlasso = train_test_split(X_lasso, y, train_size=0.8, test_size=0.2)\n",
        "\n",
        "model_lasso = RandomForestClassifier(n_estimators = 250)\n",
        "model_lasso.fit(X_trainlasso,y_trainlasso)\n",
        "prediction_lasso = model_lasso.predict(X_validlasso)\n",
        "acc_lasso = accuracy_score(y_validlasso, prediction_lasso)\n",
        "acc_lasso"
      ],
      "metadata": {
        "colab": {
          "base_uri": "https://localhost:8080/"
        },
        "id": "2cVoh8f0_GeE",
        "outputId": "e5bcaff6-e8f4-4be8-e889-992c8000e981"
      },
      "execution_count": 142,
      "outputs": [
        {
          "output_type": "execute_result",
          "data": {
            "text/plain": [
              "0.8974801587301587"
            ]
          },
          "metadata": {},
          "execution_count": 142
        }
      ]
    },
    {
      "cell_type": "markdown",
      "source": [
        "### **Model Performance Comparison**"
      ],
      "metadata": {
        "id": "TOrzgigRA_m1"
      }
    },
    {
      "cell_type": "code",
      "source": [
        "feature_selection = [\"Random Forest\",\"Variance Threshold\",\"Chi Squared\",\"ANOVA F-value\",\"Lasso Regularization\"]\n",
        "accuracy_scores = [acc_full, acc_vt, acc_chi, acc_anova, acc_lasso]\n",
        "df = pd.DataFrame({\"Feature Selection\":feature_selection,\n",
        "                   \"Accuracy score\":accuracy_scores})\n",
        "ax = df.plot(x=\"Feature Selection\",y=\"Accuracy score\", figsize=(10,6),kind=\"bar\",\n",
        "        title=\"Performance Visualization of Different Feature Selection\", legend = False)\n",
        "for p in ax.patches:\n",
        "        ax.annotate('{:.5f}'.format(p.get_height()), (p.get_x()+0.1, p.get_height()+0.01))\n",
        "plt.show()"
      ],
      "metadata": {
        "colab": {
          "base_uri": "https://localhost:8080/",
          "height": 532
        },
        "id": "mYKDY8sj_Ggw",
        "outputId": "50e0c7b6-6c4a-4024-e1d8-3ae4cdf82ded"
      },
      "execution_count": 143,
      "outputs": [
        {
          "output_type": "display_data",
          "data": {
            "text/plain": [
              "<Figure size 1000x600 with 1 Axes>"
            ],
            "image/png": "[encoded data removed]"
          },
          "metadata": {}
        }
      ]
    },
    {
      "cell_type": "code",
      "source": [
        "df.head()"
      ],
      "metadata": {
        "colab": {
          "base_uri": "https://localhost:8080/",
          "height": 206
        },
        "id": "apKwBq_j_Gjk",
        "outputId": "efc6e300-c998-4692-cf82-736ffc28122a"
      },
      "execution_count": 124,
      "outputs": [
        {
          "output_type": "execute_result",
          "data": {
            "text/plain": [
              "      Feature Selection  Accuracy score\n",
              "0         Random Forest        0.899544\n",
              "1    Variance Threshold        0.897758\n",
              "2           Chi Squared        0.899524\n",
              "3         ANOVA F-value        0.899881\n",
              "4  Lasso Regularization        0.900417"
            ],
            "text/html": [
              "\n",
              "  <div id=\"df-940c6c97-c56f-4d12-908e-c3ca731d87ce\" class=\"colab-df-container\">\n",
              "    <div>\n",
              "<style scoped>\n",
              "    .dataframe tbody tr th:only-of-type {\n",
              "        vertical-align: middle;\n",
              "    }\n",
              "\n",
              "    .dataframe tbody tr th {\n",
              "        vertical-align: top;\n",
              "    }\n",
              "\n",
              "    .dataframe thead th {\n",
              "        text-align: right;\n",
              "    }\n",
              "</style>\n",
              "<table border=\"1\" class=\"dataframe\">\n",
              "  <thead>\n",
              "    <tr style=\"text-align: right;\">\n",
              "      <th></th>\n",
              "      <th>Feature Selection</th>\n",
              "      <th>Accuracy score</th>\n",
              "    </tr>\n",
              "  </thead>\n",
              "  <tbody>\n",
              "    <tr>\n",
              "      <th>0</th>\n",
              "      <td>Random Forest</td>\n",
              "      <td>0.899544</td>\n",
              "    </tr>\n",
              "    <tr>\n",
              "      <th>1</th>\n",
              "      <td>Variance Threshold</td>\n",
              "      <td>0.897758</td>\n",
              "    </tr>\n",
              "    <tr>\n",
              "      <th>2</th>\n",
              "      <td>Chi Squared</td>\n",
              "      <td>0.899524</td>\n",
              "    </tr>\n",
              "    <tr>\n",
              "      <th>3</th>\n",
              "      <td>ANOVA F-value</td>\n",
              "      <td>0.899881</td>\n",
              "    </tr>\n",
              "    <tr>\n",
              "      <th>4</th>\n",
              "      <td>Lasso Regularization</td>\n",
              "      <td>0.900417</td>\n",
              "    </tr>\n",
              "  </tbody>\n",
              "</table>\n",
              "</div>\n",
              "    <div class=\"colab-df-buttons\">\n",
              "\n",
              "  <div class=\"colab-df-container\">\n",
              "    <button class=\"colab-df-convert\" onclick=\"convertToInteractive('df-940c6c97-c56f-4d12-908e-c3ca731d87ce')\"\n",
              "            title=\"Convert this dataframe to an interactive table.\"\n",
              "            style=\"display:none;\">\n",
              "\n",
              "  <svg xmlns=\"http://www.w3.org/2000/svg\" height=\"24px\" viewBox=\"0 -960 960 960\">\n",
              "    <path d=\"M120-120v-720h720v720H120Zm60-500h600v-160H180v160Zm220 220h160v-160H400v160Zm0 220h160v-160H400v160ZM180-400h160v-160H180v160Zm440 0h160v-160H620v160ZM180-180h160v-160H180v160Zm440 0h160v-160H620v160Z\"/>\n",
              "  </svg>\n",
              "    </button>\n",
              "\n",
              "  <style>\n",
              "    .colab-df-container {\n",
              "      display:flex;\n",
              "      gap: 12px;\n",
              "    }\n",
              "\n",
              "    .colab-df-convert {\n",
              "      background-color: #E8F0FE;\n",
              "      border: none;\n",
              "      border-radius: 50%;\n",
              "      cursor: pointer;\n",
              "      display: none;\n",
              "      fill: #1967D2;\n",
              "      height: 32px;\n",
              "      padding: 0 0 0 0;\n",
              "      width: 32px;\n",
              "    }\n",
              "\n",
              "    .colab-df-convert:hover {\n",
              "      background-color: #E2EBFA;\n",
              "      box-shadow: 0px 1px 2px rgba(60, 64, 67, 0.3), 0px 1px 3px 1px rgba(60, 64, 67, 0.15);\n",
              "      fill: #174EA6;\n",
              "    }\n",
              "\n",
              "    .colab-df-buttons div {\n",
              "      margin-bottom: 4px;\n",
              "    }\n",
              "\n",
              "    [theme=dark] .colab-df-convert {\n",
              "      background-color: #3B4455;\n",
              "      fill: #D2E3FC;\n",
              "    }\n",
              "\n",
              "    [theme=dark] .colab-df-convert:hover {\n",
              "      background-color: #434B5C;\n",
              "      box-shadow: 0px 1px 3px 1px rgba(0, 0, 0, 0.15);\n",
              "      filter: drop-shadow(0px 1px 2px rgba(0, 0, 0, 0.3));\n",
              "      fill: #FFFFFF;\n",
              "    }\n",
              "  </style>\n",
              "\n",
              "    <script>\n",
              "      const buttonEl =\n",
              "        document.querySelector('#df-940c6c97-c56f-4d12-908e-c3ca731d87ce button.colab-df-convert');\n",
              "      buttonEl.style.display =\n",
              "        google.colab.kernel.accessAllowed ? 'block' : 'none';\n",
              "\n",
              "      async function convertToInteractive(key) {\n",
              "        const element = document.querySelector('#df-940c6c97-c56f-4d12-908e-c3ca731d87ce');\n",
              "        const dataTable =\n",
              "          await google.colab.kernel.invokeFunction('convertToInteractive',\n",
              "                                                    [key], {});\n",
              "        if (!dataTable) return;\n",
              "\n",
              "        const docLinkHtml = 'Like what you see? Visit the ' +\n",
              "          '<a target=\"_blank\" href=https://colab.research.google.com/notebooks/data_table.ipynb>data table notebook</a>'\n",
              "          + ' to learn more about interactive tables.';\n",
              "        element.innerHTML = '';\n",
              "        dataTable['output_type'] = 'display_data';\n",
              "        await google.colab.output.renderOutput(dataTable, element);\n",
              "        const docLink = document.createElement('div');\n",
              "        docLink.innerHTML = docLinkHtml;\n",
              "        element.appendChild(docLink);\n",
              "      }\n",
              "    </script>\n",
              "  </div>\n",
              "\n",
              "\n",
              "<div id=\"df-b96484dd-b3d4-4a18-8f4e-38b015054c98\">\n",
              "  <button class=\"colab-df-quickchart\" onclick=\"quickchart('df-b96484dd-b3d4-4a18-8f4e-38b015054c98')\"\n",
              "            title=\"Suggest charts\"\n",
              "            style=\"display:none;\">\n",
              "\n",
              "<svg xmlns=\"http://www.w3.org/2000/svg\" height=\"24px\"viewBox=\"0 0 24 24\"\n",
              "     width=\"24px\">\n",
              "    <g>\n",
              "        <path d=\"M19 3H5c-1.1 0-2 .9-2 2v14c0 1.1.9 2 2 2h14c1.1 0 2-.9 2-2V5c0-1.1-.9-2-2-2zM9 17H7v-7h2v7zm4 0h-2V7h2v10zm4 0h-2v-4h2v4z\"/>\n",
              "    </g>\n",
              "</svg>\n",
              "  </button>\n",
              "\n",
              "<style>\n",
              "  .colab-df-quickchart {\n",
              "      --bg-color: #E8F0FE;\n",
              "      --fill-color: #1967D2;\n",
              "      --hover-bg-color: #E2EBFA;\n",
              "      --hover-fill-color: #174EA6;\n",
              "      --disabled-fill-color: #AAA;\n",
              "      --disabled-bg-color: #DDD;\n",
              "  }\n",
              "\n",
              "  [theme=dark] .colab-df-quickchart {\n",
              "      --bg-color: #3B4455;\n",
              "      --fill-color: #D2E3FC;\n",
              "      --hover-bg-color: #434B5C;\n",
              "      --hover-fill-color: #FFFFFF;\n",
              "      --disabled-bg-color: #3B4455;\n",
              "      --disabled-fill-color: #666;\n",
              "  }\n",
              "\n",
              "  .colab-df-quickchart {\n",
              "    background-color: var(--bg-color);\n",
              "    border: none;\n",
              "    border-radius: 50%;\n",
              "    cursor: pointer;\n",
              "    display: none;\n",
              "    fill: var(--fill-color);\n",
              "    height: 32px;\n",
              "    padding: 0;\n",
              "    width: 32px;\n",
              "  }\n",
              "\n",
              "  .colab-df-quickchart:hover {\n",
              "    background-color: var(--hover-bg-color);\n",
              "    box-shadow: 0 1px 2px rgba(60, 64, 67, 0.3), 0 1px 3px 1px rgba(60, 64, 67, 0.15);\n",
              "    fill: var(--button-hover-fill-color);\n",
              "  }\n",
              "\n",
              "  .colab-df-quickchart-complete:disabled,\n",
              "  .colab-df-quickchart-complete:disabled:hover {\n",
              "    background-color: var(--disabled-bg-color);\n",
              "    fill: var(--disabled-fill-color);\n",
              "    box-shadow: none;\n",
              "  }\n",
              "\n",
              "  .colab-df-spinner {\n",
              "    border: 2px solid var(--fill-color);\n",
              "    border-color: transparent;\n",
              "    border-bottom-color: var(--fill-color);\n",
              "    animation:\n",
              "      spin 1s steps(1) infinite;\n",
              "  }\n",
              "\n",
              "  @keyframes spin {\n",
              "    0% {\n",
              "      border-color: transparent;\n",
              "      border-bottom-color: var(--fill-color);\n",
              "      border-left-color: var(--fill-color);\n",
              "    }\n",
              "    20% {\n",
              "      border-color: transparent;\n",
              "      border-left-color: var(--fill-color);\n",
              "      border-top-color: var(--fill-color);\n",
              "    }\n",
              "    30% {\n",
              "      border-color: transparent;\n",
              "      border-left-color: var(--fill-color);\n",
              "      border-top-color: var(--fill-color);\n",
              "      border-right-color: var(--fill-color);\n",
              "    }\n",
              "    40% {\n",
              "      border-color: transparent;\n",
              "      border-right-color: var(--fill-color);\n",
              "      border-top-color: var(--fill-color);\n",
              "    }\n",
              "    60% {\n",
              "      border-color: transparent;\n",
              "      border-right-color: var(--fill-color);\n",
              "    }\n",
              "    80% {\n",
              "      border-color: transparent;\n",
              "      border-right-color: var(--fill-color);\n",
              "      border-bottom-color: var(--fill-color);\n",
              "    }\n",
              "    90% {\n",
              "      border-color: transparent;\n",
              "      border-bottom-color: var(--fill-color);\n",
              "    }\n",
              "  }\n",
              "</style>\n",
              "\n",
              "  <script>\n",
              "    async function quickchart(key) {\n",
              "      const quickchartButtonEl =\n",
              "        document.querySelector('#' + key + ' button');\n",
              "      quickchartButtonEl.disabled = true;  // To prevent multiple clicks.\n",
              "      quickchartButtonEl.classList.add('colab-df-spinner');\n",
              "      try {\n",
              "        const charts = await google.colab.kernel.invokeFunction(\n",
              "            'suggestCharts', [key], {});\n",
              "      } catch (error) {\n",
              "        console.error('Error during call to suggestCharts:', error);\n",
              "      }\n",
              "      quickchartButtonEl.classList.remove('colab-df-spinner');\n",
              "      quickchartButtonEl.classList.add('colab-df-quickchart-complete');\n",
              "    }\n",
              "    (() => {\n",
              "      let quickchartButtonEl =\n",
              "        document.querySelector('#df-b96484dd-b3d4-4a18-8f4e-38b015054c98 button');\n",
              "      quickchartButtonEl.style.display =\n",
              "        google.colab.kernel.accessAllowed ? 'block' : 'none';\n",
              "    })();\n",
              "  </script>\n",
              "</div>\n",
              "    </div>\n",
              "  </div>\n"
            ]
          },
          "metadata": {},
          "execution_count": 124
        }
      ]
    },
    {
      "cell_type": "code",
      "source": [],
      "metadata": {
        "id": "wgTeCGrl_GmQ"
      },
      "execution_count": 102,
      "outputs": []
    }
  ]
}